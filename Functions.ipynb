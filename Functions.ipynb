{
 "cells": [
  {
   "cell_type": "markdown",
   "id": "c76d7c6c-93c2-4bab-a1e2-3622faaa8d13",
   "metadata": {},
   "source": [
    "# Functions\n",
    "## and how to use them\n"
   ]
  },
  {
   "cell_type": "markdown",
   "id": "dac8a7ee-5343-4ffc-ae58-fb903ef84d9b",
   "metadata": {},
   "source": [
    "So functions are popular pieces of code that are programer use for make their work easier.\n",
    "We can create function for basically every task in our code, from most easy like addition, multiplication etc. to really complicated stuff."
   ]
  },
  {
   "cell_type": "markdown",
   "id": "3a44d104-7eaf-49aa-b93e-1c6d47094ba3",
   "metadata": {},
   "source": [
    "Example of creating simple funcion:"
   ]
  },
  {
   "cell_type": "code",
   "execution_count": 3,
   "id": "a9ee0aa8-1b68-4af9-a0fb-f814939d16fb",
   "metadata": {},
   "outputs": [],
   "source": [
    "def add_nums():\n",
    "    print(3 + 7)"
   ]
  },
  {
   "cell_type": "markdown",
   "id": "130e4b7b-b383-4b61-9060-bcae06d9a84d",
   "metadata": {},
   "source": [
    "While we're creating function always must define it: **name** and **body**\n",
    "\n"
   ]
  },
  {
   "cell_type": "markdown",
   "id": "0b4d1cf8-19a6-45d3-99f6-3b7e4fbafd59",
   "metadata": {},
   "source": [
    "### Name\n",
    "It is words that you call your funcion in code (it must be easy to understand what that function do by it's name). \n",
    "When you create function you **MUST** always put **_def_** before name and brackets with colon after **_():_** "
   ]
  },
  {
   "cell_type": "markdown",
   "id": "318ff212-0792-4e09-9e49-5b752e5958aa",
   "metadata": {},
   "source": [
    "### Body\n",
    "In body-part you say what your function do when you call it by its **name** (directly under _def_ line and after _tab_  "
   ]
  },
  {
   "cell_type": "markdown",
   "id": "e78f39fb-34fe-4a0c-9049-2d658b063444",
   "metadata": {},
   "source": [
    "# How to call Function\n",
    "You can call function simply by write it names and after that brackets (sometimes function need to give parameters in brackets)"
   ]
  },
  {
   "cell_type": "markdown",
   "id": "220edb2f-cff3-4a65-a7df-9e7bbd13fac7",
   "metadata": {},
   "source": [
    "Example of call function:"
   ]
  },
  {
   "cell_type": "code",
   "execution_count": 5,
   "id": "bbd055c9-0541-450e-9dc5-f4e7d27a4d78",
   "metadata": {},
   "outputs": [
    {
     "data": {
      "text/plain": [
       "10"
      ]
     },
     "execution_count": 5,
     "metadata": {},
     "output_type": "execute_result"
    }
   ],
   "source": [
    "add_nums()"
   ]
  },
  {
   "cell_type": "code",
   "execution_count": null,
   "id": "c99d4149-4c20-4ed1-832d-f68cdcd7732f",
   "metadata": {},
   "outputs": [],
   "source": []
  }
 ],
 "metadata": {
  "kernelspec": {
   "display_name": "Python 3 (ipykernel)",
   "language": "python",
   "name": "python3"
  },
  "language_info": {
   "codemirror_mode": {
    "name": "ipython",
    "version": 3
   },
   "file_extension": ".py",
   "mimetype": "text/x-python",
   "name": "python",
   "nbconvert_exporter": "python",
   "pygments_lexer": "ipython3",
   "version": "3.10.2"
  }
 },
 "nbformat": 4,
 "nbformat_minor": 5
}
